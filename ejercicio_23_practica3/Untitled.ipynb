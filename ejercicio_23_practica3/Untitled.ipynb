{
 "cells": [
  {
   "cell_type": "code",
   "execution_count": 4,
   "id": "896aff77",
   "metadata": {
    "ExecuteTime": {
     "end_time": "2022-12-09T14:08:20.818340Z",
     "start_time": "2022-12-09T14:08:20.812355Z"
    }
   },
   "outputs": [],
   "source": [
    "import sqlite3"
   ]
  },
  {
   "cell_type": "code",
   "execution_count": 5,
   "id": "5e2ec87d",
   "metadata": {
    "ExecuteTime": {
     "end_time": "2022-12-09T14:08:20.848977Z",
     "start_time": "2022-12-09T14:08:20.820336Z"
    }
   },
   "outputs": [],
   "source": [
    "conexion=sqlite3.connect('escuela.sqlite')\n",
    "cursor=conexion.cursor()\n",
    "cursor.execute('''CREATE TABLE ESTUDIANTES(ID INT PRIMARY KEY NOT NULL,NOMBRE TEXT NOT NULL,EDAD INT NOT NULL,DIRECCION CHAR(50),PROMEDIO FLOAT);''')\n",
    "\n",
    "\n",
    "conexion.close()"
   ]
  },
  {
   "cell_type": "code",
   "execution_count": 7,
   "id": "5acd5b41",
   "metadata": {
    "ExecuteTime": {
     "end_time": "2022-12-09T14:08:31.795815Z",
     "start_time": "2022-12-09T14:08:31.780233Z"
    }
   },
   "outputs": [],
   "source": [
    "conexion=sqlite3.connect('escuela.sqlite')\n",
    "cursor=conexion.cursor()\n",
    "cursor.execute('INSERT INTO ESTUDIANTES (ID,NOMBRE,EDAD,DIRECCION,PROMEDIO) VALUES (1,\"Miguel\",33,\"Av Universidad\",9.0)')\n",
    "conexion.commit()\n",
    "\n",
    "conexion.close()"
   ]
  },
  {
   "cell_type": "code",
   "execution_count": 8,
   "id": "529278bc",
   "metadata": {
    "ExecuteTime": {
     "end_time": "2022-12-09T14:12:25.984934Z",
     "start_time": "2022-12-09T14:12:25.963990Z"
    }
   },
   "outputs": [],
   "source": [
    "conexion=sqlite3.connect('escuela.sqlite')\n",
    "cursor=conexion.cursor()\n",
    "cursor.execute('INSERT INTO ESTUDIANTES (ID,NOMBRE,EDAD,DIRECCION,PROMEDIO) VALUES (2,\"Antony\",24,\"Av Universidad\",10.0)')\n",
    "cursor.execute('INSERT INTO ESTUDIANTES (ID,NOMBRE,EDAD,DIRECCION,PROMEDIO) VALUES (3,\"Beto\",33,\"Av Universidad\",5.0)')\n",
    "conexion.commit()\n",
    "\n",
    "conexion.close()"
   ]
  },
  {
   "cell_type": "code",
   "execution_count": 9,
   "id": "68fd58d3",
   "metadata": {
    "ExecuteTime": {
     "end_time": "2022-12-09T14:21:40.420331Z",
     "start_time": "2022-12-09T14:21:40.410327Z"
    }
   },
   "outputs": [
    {
     "name": "stdout",
     "output_type": "stream",
     "text": [
      "ID=  1\n",
      "NOMBRE=  Miguel\n",
      "PROMEDIO=  9.0 \n",
      "\n",
      "ID=  2\n",
      "NOMBRE=  Antony\n",
      "PROMEDIO=  10.0 \n",
      "\n",
      "ID=  3\n",
      "NOMBRE=  Beto\n",
      "PROMEDIO=  5.0 \n",
      "\n"
     ]
    }
   ],
   "source": [
    "conexion=sqlite3.connect('escuela.sqlite')\n",
    "cursor=conexion.cursor()\n",
    "for row in cursor.execute('SELECT ID,NOMBRE,PROMEDIO FROM ESTUDIANTES'):\n",
    "    print('ID= ',row[0])\n",
    "    print('NOMBRE= ',row[1])\n",
    "    print('PROMEDIO= ',row[2],'\\n')\n",
    "conexion.commit()\n",
    "\n",
    "conexion.close()"
   ]
  },
  {
   "cell_type": "code",
   "execution_count": 11,
   "id": "e3e83fb9",
   "metadata": {
    "ExecuteTime": {
     "end_time": "2022-12-09T14:33:26.302526Z",
     "start_time": "2022-12-09T14:33:26.290529Z"
    }
   },
   "outputs": [
    {
     "name": "stdout",
     "output_type": "stream",
     "text": [
      "ID=  1\n",
      "NOMBRE=  Miguel\n",
      "PROMEDIO=  10.0 \n",
      "\n",
      "ID=  2\n",
      "NOMBRE=  Antony\n",
      "PROMEDIO=  10.0 \n",
      "\n",
      "ID=  3\n",
      "NOMBRE=  Beto\n",
      "PROMEDIO=  5.0 \n",
      "\n"
     ]
    }
   ],
   "source": [
    "conexion=sqlite3.connect('escuela.sqlite')\n",
    "cursor=conexion.cursor()\n",
    "\n",
    "conexion.execute('UPDATE ESTUDIANTES set PROMEDIO=10.0 where ID=1')\n",
    "conexion.commit()\n",
    "\n",
    "for row in cursor.execute('SELECT ID,NOMBRE,PROMEDIO FROM ESTUDIANTES'):\n",
    "    print('ID= ',row[0])\n",
    "    print('NOMBRE= ',row[1])\n",
    "    print('PROMEDIO= ',row[2],'\\n')\n",
    "conexion.commit()\n",
    "\n",
    "conexion.close()"
   ]
  },
  {
   "cell_type": "code",
   "execution_count": 12,
   "id": "31242839",
   "metadata": {
    "ExecuteTime": {
     "end_time": "2022-12-09T14:33:55.458074Z",
     "start_time": "2022-12-09T14:33:55.444006Z"
    }
   },
   "outputs": [
    {
     "name": "stdout",
     "output_type": "stream",
     "text": [
      "ID=  1\n",
      "NOMBRE=  Miguel\n",
      "PROMEDIO=  10.0 \n",
      "\n",
      "ID=  3\n",
      "NOMBRE=  Beto\n",
      "PROMEDIO=  5.0 \n",
      "\n"
     ]
    }
   ],
   "source": [
    "conexion=sqlite3.connect('escuela.sqlite')\n",
    "cursor=conexion.cursor()\n",
    "\n",
    "conexion.execute('DELETE from ESTUDIANTES where ID=2')\n",
    "conexion.commit()\n",
    "\n",
    "for row in cursor.execute('SELECT ID,NOMBRE,PROMEDIO FROM ESTUDIANTES'):\n",
    "    print('ID= ',row[0])\n",
    "    print('NOMBRE= ',row[1])\n",
    "    print('PROMEDIO= ',row[2],'\\n')\n",
    "conexion.commit()\n",
    "\n",
    "conexion.close()"
   ]
  }
 ],
 "metadata": {
  "kernelspec": {
   "display_name": "Python 3",
   "language": "python",
   "name": "python3"
  },
  "language_info": {
   "codemirror_mode": {
    "name": "ipython",
    "version": 3
   },
   "file_extension": ".py",
   "mimetype": "text/x-python",
   "name": "python",
   "nbconvert_exporter": "python",
   "pygments_lexer": "ipython3",
   "version": "3.8.8"
  },
  "varInspector": {
   "cols": {
    "lenName": 16,
    "lenType": 16,
    "lenVar": 40
   },
   "kernels_config": {
    "python": {
     "delete_cmd_postfix": "",
     "delete_cmd_prefix": "del ",
     "library": "var_list.py",
     "varRefreshCmd": "print(var_dic_list())"
    },
    "r": {
     "delete_cmd_postfix": ") ",
     "delete_cmd_prefix": "rm(",
     "library": "var_list.r",
     "varRefreshCmd": "cat(var_dic_list()) "
    }
   },
   "types_to_exclude": [
    "module",
    "function",
    "builtin_function_or_method",
    "instance",
    "_Feature"
   ],
   "window_display": false
  }
 },
 "nbformat": 4,
 "nbformat_minor": 5
}
